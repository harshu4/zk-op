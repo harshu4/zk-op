{
 "cells": [
  {
   "cell_type": "code",
   "execution_count": 42,
   "metadata": {},
   "outputs": [],
   "source": [
    "# list of supported layers\n",
    "from tensorflow.keras.layers import (\n",
    "    Input,\n",
    "    Activation,\n",
    "    AveragePooling2D,\n",
    "    BatchNormalization,\n",
    "    Conv2D,\n",
    "    Dense,\n",
    "    Dropout,\n",
    "    Flatten,\n",
    "    GlobalAveragePooling2D,\n",
    "    GlobalMaxPooling2D,\n",
    "    MaxPooling2D,\n",
    "    ReLU,\n",
    "    Softmax,\n",
    "    )\n",
    "from tensorflow.keras import Model\n",
    "from tensorflow.keras.datasets import mnist\n",
    "from tensorflow.keras.utils import to_categorical\n",
    "import numpy as np\n",
    "import matplotlib.pyplot as plt\n",
    "import tensorflow as tf"
   ]
  },
  {
   "cell_type": "code",
   "execution_count": 43,
   "metadata": {},
   "outputs": [],
   "source": [
    "# load MNIST dataset\n",
    "(X_train, y_train), (X_test, y_test) = mnist.load_data()"
   ]
  },
  {
   "cell_type": "code",
   "execution_count": 44,
   "metadata": {},
   "outputs": [],
   "source": [
    "# convert y_train and y_test to one-hot encoding\n",
    "y_train = to_categorical(y_train)\n",
    "y_test = to_categorical(y_test)"
   ]
  },
  {
   "cell_type": "code",
   "execution_count": 64,
   "metadata": {},
   "outputs": [
    {
     "name": "stdout",
     "output_type": "stream",
     "text": [
      "[0. 0. 0. 0. 1. 0. 0. 0. 0. 0.]\n"
     ]
    }
   ],
   "source": [
    "print(y_test[4])"
   ]
  },
  {
   "cell_type": "code",
   "execution_count": 65,
   "metadata": {},
   "outputs": [],
   "source": [
    "import json\n",
    "# reshape X_train and X_test to 4D tensor\n",
    "X_train = X_train.reshape(X_train.shape[0], 28, 28, 1)\n",
    "X_test = X_test.reshape(X_test.shape[0], 28, 28, 1)\n",
    "\n",
    "#normalizing\n",
    "X_train = X_train.astype('float32')\n",
    "X_test = X_test.astype('float32')\n",
    "\n",
    "\n",
    "\n",
    "\n",
    "input_data = {\n",
    "    \"in\":X_test[4].tolist()\n",
    "}\n",
    "\n",
    "with open(\"input_2.json\", \"w\") as json_file:\n",
    "    json.dump(input_data, json_file)\n",
    "\n",
    "\n",
    "X_train /= 255.0\n",
    "X_test /= 255.0\n"
   ]
  },
  {
   "cell_type": "code",
   "execution_count": 66,
   "metadata": {},
   "outputs": [],
   "source": [
    "inputs = Input(shape=(28,28,1))\n",
    "out = Conv2D(4, 3, use_bias=False)(inputs)\n",
    "out = BatchNormalization()(out)\n",
    "out = Activation('relu')(out)\n",
    "out = MaxPooling2D()(out)\n",
    "out = Conv2D(8, 3, use_bias=True, strides=2)(out)\n",
    "out = ReLU()(out)\n",
    "out = AveragePooling2D(pool_size=(2, 2))(out)\n",
    "out = Flatten()(out)\n",
    "# out = Dropout(0.5)(out)\n",
    "out = Dense(10, activation=\"softmax\")(out)\n",
    "model = Model(inputs, out)"
   ]
  },
  {
   "cell_type": "code",
   "execution_count": 67,
   "metadata": {},
   "outputs": [
    {
     "name": "stdout",
     "output_type": "stream",
     "text": [
      "Model: \"model_34\"\n",
      "_________________________________________________________________\n",
      " Layer (type)                Output Shape              Param #   \n",
      "=================================================================\n",
      " input_27 (InputLayer)       [(None, 28, 28, 1)]       0         \n",
      "                                                                 \n",
      " conv2d_4 (Conv2D)           (None, 26, 26, 4)         36        \n",
      "                                                                 \n",
      " batch_normalization_2 (Batc  (None, 26, 26, 4)        16        \n",
      " hNormalization)                                                 \n",
      "                                                                 \n",
      " activation_2 (Activation)   (None, 26, 26, 4)         0         \n",
      "                                                                 \n",
      " max_pooling2d_2 (MaxPooling  (None, 13, 13, 4)        0         \n",
      " 2D)                                                             \n",
      "                                                                 \n",
      " conv2d_5 (Conv2D)           (None, 6, 6, 8)           296       \n",
      "                                                                 \n",
      " re_lu_2 (ReLU)              (None, 6, 6, 8)           0         \n",
      "                                                                 \n",
      " average_pooling2d_2 (Averag  (None, 3, 3, 8)          0         \n",
      " ePooling2D)                                                     \n",
      "                                                                 \n",
      " flatten_2 (Flatten)         (None, 72)                0         \n",
      "                                                                 \n",
      " dense_2 (Dense)             (None, 10)                730       \n",
      "                                                                 \n",
      "=================================================================\n",
      "Total params: 1,078\n",
      "Trainable params: 1,070\n",
      "Non-trainable params: 8\n",
      "_________________________________________________________________\n"
     ]
    }
   ],
   "source": [
    "model.summary()"
   ]
  },
  {
   "cell_type": "code",
   "execution_count": 68,
   "metadata": {},
   "outputs": [],
   "source": [
    "model.compile(\n",
    "    loss='categorical_crossentropy',\n",
    "    optimizer='adam',\n",
    "    metrics=['acc']\n",
    "    )"
   ]
  },
  {
   "cell_type": "code",
   "execution_count": 69,
   "metadata": {},
   "outputs": [
    {
     "name": "stdout",
     "output_type": "stream",
     "text": [
      "Epoch 1/15\n",
      "1875/1875 [==============================] - 11s 6ms/step - loss: 0.8908 - acc: 0.7205 - val_loss: 0.4889 - val_acc: 0.8570\n",
      "Epoch 2/15\n",
      "1875/1875 [==============================] - 10s 5ms/step - loss: 0.4473 - acc: 0.8647 - val_loss: 0.3822 - val_acc: 0.8897\n",
      "Epoch 3/15\n",
      "1875/1875 [==============================] - 10s 5ms/step - loss: 0.3595 - acc: 0.8922 - val_loss: 0.3115 - val_acc: 0.9093\n",
      "Epoch 4/15\n",
      "1875/1875 [==============================] - 10s 5ms/step - loss: 0.3012 - acc: 0.9096 - val_loss: 0.2683 - val_acc: 0.9207\n",
      "Epoch 5/15\n",
      "1875/1875 [==============================] - 10s 6ms/step - loss: 0.2645 - acc: 0.9200 - val_loss: 0.2345 - val_acc: 0.9266\n",
      "Epoch 6/15\n",
      "1875/1875 [==============================] - 10s 5ms/step - loss: 0.2429 - acc: 0.9265 - val_loss: 0.2156 - val_acc: 0.9333\n",
      "Epoch 7/15\n",
      "1875/1875 [==============================] - 10s 5ms/step - loss: 0.2276 - acc: 0.9309 - val_loss: 0.2030 - val_acc: 0.9374\n",
      "Epoch 8/15\n",
      "1875/1875 [==============================] - 10s 5ms/step - loss: 0.2170 - acc: 0.9333 - val_loss: 0.2045 - val_acc: 0.9357\n",
      "Epoch 9/15\n",
      "1875/1875 [==============================] - 10s 5ms/step - loss: 0.2089 - acc: 0.9365 - val_loss: 0.1899 - val_acc: 0.9399\n",
      "Epoch 10/15\n",
      "1875/1875 [==============================] - 10s 6ms/step - loss: 0.2022 - acc: 0.9384 - val_loss: 0.1888 - val_acc: 0.9403\n",
      "Epoch 11/15\n",
      "1875/1875 [==============================] - 10s 5ms/step - loss: 0.1972 - acc: 0.9404 - val_loss: 0.1874 - val_acc: 0.9428\n",
      "Epoch 12/15\n",
      "1875/1875 [==============================] - 10s 5ms/step - loss: 0.1907 - acc: 0.9416 - val_loss: 0.1757 - val_acc: 0.9452\n",
      "Epoch 13/15\n",
      "1875/1875 [==============================] - 10s 5ms/step - loss: 0.1855 - acc: 0.9435 - val_loss: 0.1748 - val_acc: 0.9455\n",
      "Epoch 14/15\n",
      "1875/1875 [==============================] - 10s 5ms/step - loss: 0.1817 - acc: 0.9449 - val_loss: 0.1822 - val_acc: 0.9409\n",
      "Epoch 15/15\n",
      "1875/1875 [==============================] - 10s 5ms/step - loss: 0.1784 - acc: 0.9452 - val_loss: 0.1748 - val_acc: 0.9463\n"
     ]
    },
    {
     "data": {
      "text/plain": [
       "<keras.callbacks.History at 0x24e68197310>"
      ]
     },
     "execution_count": 69,
     "metadata": {},
     "output_type": "execute_result"
    }
   ],
   "source": [
    "model.fit(X_train, y_train, epochs=15, batch_size=32, validation_data=(X_test, y_test))"
   ]
  },
  {
   "cell_type": "code",
   "execution_count": 70,
   "metadata": {},
   "outputs": [],
   "source": [
    "model.save('model.h5')"
   ]
  },
  {
   "cell_type": "code",
   "execution_count": 71,
   "metadata": {},
   "outputs": [
    {
     "name": "stdout",
     "output_type": "stream",
     "text": [
      "WARNING:tensorflow:Compiled the loaded model, but the compiled metrics have yet to be built. `model.compile_metrics` will be empty until you train or evaluate the model.\n"
     ]
    }
   ],
   "source": [
    "from tensorflow.keras.models import Model\n",
    "\n",
    "# Assume 'model' is your original model\n",
    "# Extract the first 3 layers\n",
    "new_model = Model(inputs=model.input, outputs=model.layers[2].output)\n",
    "\n",
    "# Save the new model with the first 3 layers\n",
    "new_model.save('model_first_3_layers.h5')"
   ]
  },
  {
   "cell_type": "code",
   "execution_count": null,
   "metadata": {},
   "outputs": [],
   "source": []
  },
  {
   "cell_type": "code",
   "execution_count": 72,
   "metadata": {},
   "outputs": [],
   "source": [
    "def convert_to_int(nested_list):\n",
    "    # Check if the element is a list and recurse\n",
    "    if isinstance(nested_list, list):\n",
    "        return [convert_to_int(item) for item in nested_list]\n",
    "    # If the element is a float, convert it to an integer\n",
    "    elif isinstance(nested_list, float):\n",
    "        return int(nested_list)\n",
    "    else:\n",
    "        return nested_list"
   ]
  },
  {
   "cell_type": "code",
   "execution_count": null,
   "metadata": {},
   "outputs": [
    {
     "name": "stdout",
     "output_type": "stream",
     "text": [
      "1/1 [==============================] - 0s 36ms/step\n",
      "[[[[0.010385570116341114, 0.18124334514141083, 0.30283480882644653, -0.013509713113307953, 0.039314985275268555, 0.17047937214374542, 0.17117108404636383, -0.2989187240600586], [0.010385570116341114, 0.18124334514141083, 0.30283480882644653, -0.013509713113307953, 0.039314985275268555, 0.17047937214374542, 0.17117108404636383, -0.2989187240600586], [0.010385570116341114, 0.18124334514141083, 0.30283480882644653, -0.013509713113307953, 0.039314985275268555, 0.17047937214374542, 0.17117108404636383, -0.2989187240600586], [0.010385570116341114, 0.18124334514141083, 0.30283480882644653, -0.013509713113307953, 0.039314985275268555, 0.17047937214374542, 0.17117108404636383, -0.2989187240600586], [0.010385570116341114, 0.18124334514141083, 0.30283480882644653, -0.013509713113307953, 0.039314985275268555, 0.17047937214374542, 0.17117108404636383, -0.2989187240600586], [0.010385570116341114, 0.18124334514141083, 0.30283480882644653, -0.013509713113307953, 0.039314985275268555, 0.17047937214374542, 0.17117108404636383, -0.2989187240600586]], [[0.010385570116341114, 0.18124334514141083, 0.30283480882644653, -0.013509713113307953, 0.039314985275268555, 0.17047937214374542, 0.17117108404636383, -0.2989187240600586], [0.010385570116341114, 0.18124334514141083, 0.30283480882644653, -0.013509713113307953, 0.039314985275268555, 0.17047937214374542, 0.17117108404636383, -0.2989187240600586], [0.010385570116341114, 0.18124334514141083, 0.30283480882644653, -0.013509713113307953, 0.039314985275268555, 0.17047937214374542, 0.17117108404636383, -0.2989187240600586], [0.010385570116341114, 0.18124334514141083, 0.30283480882644653, -0.013509713113307953, 0.039314985275268555, 0.17047937214374542, 0.17117108404636383, -0.2989187240600586], [0.010385570116341114, 0.18124334514141083, 0.30283480882644653, -0.013509713113307953, 0.039314985275268555, 0.17047937214374542, 0.17117108404636383, -0.2989187240600586], [0.010385570116341114, 0.18124334514141083, 0.30283480882644653, -0.013509713113307953, 0.039314985275268555, 0.17047937214374542, 0.17117108404636383, -0.2989187240600586]], [[0.010385570116341114, 0.18124334514141083, 0.30283480882644653, -0.013509713113307953, 0.039314985275268555, 0.17047937214374542, 0.17117108404636383, -0.2989187240600586], [0.010385570116341114, 0.18124334514141083, 0.30283480882644653, -0.013509713113307953, 0.039314985275268555, 0.17047937214374542, 0.17117108404636383, -0.2989187240600586], [0.010385570116341114, 0.18124334514141083, 0.30283480882644653, -0.013509713113307953, 0.039314985275268555, 0.17047937214374542, 0.17117108404636383, -0.2989187240600586], [0.010385570116341114, 0.18124334514141083, 0.30283480882644653, -0.013509713113307953, 0.039314985275268555, 0.17047937214374542, 0.17117108404636383, -0.2989187240600586], [0.010385570116341114, 0.18124334514141083, 0.30283480882644653, -0.013509713113307953, 0.039314985275268555, 0.17047937214374542, 0.17117108404636383, -0.2989187240600586], [0.010385570116341114, 0.18124334514141083, 0.30283480882644653, -0.013509713113307953, 0.039314985275268555, 0.17047937214374542, 0.17117108404636383, -0.2989187240600586]], [[0.010385570116341114, 0.18124334514141083, 0.30283480882644653, -0.013509713113307953, 0.039314985275268555, 0.17047937214374542, 0.17117108404636383, -0.2989187240600586], [0.010385570116341114, 0.18124334514141083, 0.30283480882644653, -0.013509713113307953, 0.039314985275268555, 0.17047937214374542, 0.17117108404636383, -0.2989187240600586], [0.010385570116341114, 0.18124334514141083, 0.30283480882644653, -0.013509713113307953, 0.039314985275268555, 0.17047937214374542, 0.17117108404636383, -0.2989187240600586], [0.010385570116341114, 0.18124334514141083, 0.30283480882644653, -0.013509713113307953, 0.039314985275268555, 0.17047937214374542, 0.17117108404636383, -0.2989187240600586], [0.010385570116341114, 0.18124334514141083, 0.30283480882644653, -0.013509713113307953, 0.039314985275268555, 0.17047937214374542, 0.17117108404636383, -0.2989187240600586], [0.010385570116341114, 0.18124334514141083, 0.30283480882644653, -0.013509713113307953, 0.039314985275268555, 0.17047937214374542, 0.17117108404636383, -0.2989187240600586]], [[0.010385570116341114, 0.18124334514141083, 0.30283480882644653, -0.013509713113307953, 0.039314985275268555, 0.17047937214374542, 0.17117108404636383, -0.2989187240600586], [0.010385570116341114, 0.18124334514141083, 0.30283480882644653, -0.013509713113307953, 0.039314985275268555, 0.17047937214374542, 0.17117108404636383, -0.2989187240600586], [0.010385570116341114, 0.18124334514141083, 0.30283480882644653, -0.013509713113307953, 0.039314985275268555, 0.17047937214374542, 0.17117108404636383, -0.2989187240600586], [0.010385570116341114, 0.18124334514141083, 0.30283480882644653, -0.013509713113307953, 0.039314985275268555, 0.17047937214374542, 0.17117108404636383, -0.2989187240600586], [0.010385570116341114, 0.18124334514141083, 0.30283480882644653, -0.013509713113307953, 0.039314985275268555, 0.17047937214374542, 0.17117108404636383, -0.2989187240600586], [0.010385570116341114, 0.18124334514141083, 0.30283480882644653, -0.013509713113307953, 0.039314985275268555, 0.17047937214374542, 0.17117108404636383, -0.2989187240600586]], [[0.010385570116341114, 0.18124334514141083, 0.30283480882644653, -0.013509713113307953, 0.039314985275268555, 0.17047937214374542, 0.17117108404636383, -0.2989187240600586], [0.010385570116341114, 0.18124334514141083, 0.30283480882644653, -0.013509713113307953, 0.039314985275268555, 0.17047937214374542, 0.17117108404636383, -0.2989187240600586], [0.010385570116341114, 0.18124334514141083, 0.30283480882644653, -0.013509713113307953, 0.039314985275268555, 0.17047937214374542, 0.17117108404636383, -0.2989187240600586], [0.010385570116341114, 0.18124334514141083, 0.30283480882644653, -0.013509713113307953, 0.039314985275268555, 0.17047937214374542, 0.17117108404636383, -0.2989187240600586], [0.010385570116341114, 0.18124334514141083, 0.30283480882644653, -0.013509713113307953, 0.039314985275268555, 0.17047937214374542, 0.17117108404636383, -0.2989187240600586], [0.010385570116341114, 0.18124334514141083, 0.30283480882644653, -0.013509713113307953, 0.039314985275268555, 0.17047937214374542, 0.17117108404636383, -0.2989187240600586]]]]\n",
      "WARNING:tensorflow:Compiled the loaded model, but the compiled metrics have yet to be built. `model.compile_metrics` will be empty until you train or evaluate the model.\n",
      "Model: \"model_37\"\n",
      "_________________________________________________________________\n",
      " Layer (type)                Output Shape              Param #   \n",
      "=================================================================\n",
      " input_29 (InputLayer)       [(None, 26, 26, 4)]       0         \n",
      "                                                                 \n",
      " activation_2 (Activation)   (None, 26, 26, 4)         0         \n",
      "                                                                 \n",
      " max_pooling2d_2 (MaxPooling  (None, 13, 13, 4)        0         \n",
      " 2D)                                                             \n",
      "                                                                 \n",
      " conv2d_5 (Conv2D)           (None, 6, 6, 8)           296       \n",
      "                                                                 \n",
      " re_lu_2 (ReLU)              (None, 6, 6, 8)           0         \n",
      "                                                                 \n",
      "=================================================================\n",
      "Total params: 296\n",
      "Trainable params: 296\n",
      "Non-trainable params: 0\n",
      "_________________________________________________________________\n"
     ]
    }
   ],
   "source": [
    "with open('../output/circuit_first.circom/output/output.json', 'r') as f:\n",
    "    input_data = json.load(f)\n",
    "\n",
    "\n",
    "# Flatten the input data if necessary, depending on your input model structure\n",
    "# Assuming the input should be converted into a numpy array of floats\n",
    "# You might need to adjust this depending on the exact shape of your input\n",
    "input_array = np.array(input_data['conv2d_out'], dtype=np.float32)\n",
    "\n",
    "# If the input shape doesn't match what your model expects, you may need to reshape it\n",
    "# Assuming the model expects a batch size of 1 and a shape (height, width, channels) as the input shape\n",
    "input_array = np.reshape(input_array, (1, *input_array.shape))  # Add a batch dimension if necessary\n",
    "\n",
    "\n",
    "\n",
    "# Assume 'model' is your original model\n",
    "# Get the outputs from layers 3 to 6\n",
    "layer_outputs = [layer.output for layer in model.layers[3:7]]\n",
    "\n",
    "# Create a new model that takes the original input and outputs the layers from 3 to 6\n",
    "new_model = Model(inputs=model.layers[2].output, outputs=layer_outputs)\n",
    "\n",
    "# Now, you can use `new_model` to predict and get outputs from layers 3 to 6\n",
    "output = new_model.predict(input_array)\n",
    "print(output[2].tolist())\n",
    "output_test = convert_to_int(output[2].tolist())\n",
    "\n",
    "formatted_output = {\"in\": output_test}\n",
    "\n",
    "# Save the output as a JSON file\n",
    "output_file = \"../output/circuit_last.circom/input.json\"\n",
    "with open(output_file, \"w\") as f:\n",
    "    json.dump(formatted_output, f, indent=4)\n",
    "new_model.save(\"model_middle_layers.h5\")\n",
    "new_model.summary()\n"
   ]
  },
  {
   "cell_type": "code",
   "execution_count": 59,
   "metadata": {},
   "outputs": [
    {
     "name": "stdout",
     "output_type": "stream",
     "text": [
      "1/1 [==============================] - 0s 35ms/step\n",
      "WARNING:tensorflow:Compiled the loaded model, but the compiled metrics have yet to be built. `model.compile_metrics` will be empty until you train or evaluate the model.\n",
      "Model: \"model_32\"\n",
      "_________________________________________________________________\n",
      " Layer (type)                Output Shape              Param #   \n",
      "=================================================================\n",
      " input_25 (InputLayer)       [(None, 6, 6, 8)]         0         \n",
      "                                                                 \n",
      " average_pooling2d_1 (Averag  (None, 3, 3, 8)          0         \n",
      " ePooling2D)                                                     \n",
      "                                                                 \n",
      " flatten_1 (Flatten)         (None, 72)                0         \n",
      "                                                                 \n",
      " dense_1 (Dense)             (None, 10)                730       \n",
      "                                                                 \n",
      "=================================================================\n",
      "Total params: 730\n",
      "Trainable params: 730\n",
      "Non-trainable params: 0\n",
      "_________________________________________________________________\n"
     ]
    }
   ],
   "source": [
    "from tensorflow.keras.models import Model\n",
    "from tensorflow.keras.layers import Input\n",
    "\n",
    "# Assume 'model' is your original model\n",
    "\n",
    "# Get the output of the 4th last layer\n",
    "input_to_last_3 = model.layers[-4].output\n",
    "\n",
    "# Use this as the input to the last 3 layers\n",
    "output_from_last_3 = input_to_last_3\n",
    "for layer in model.layers[-3:]:  # Iterate through the last 3 layers\n",
    "    output_from_last_3 = layer(output_from_last_3)\n",
    "\n",
    "# Create a new model\n",
    "new_model = Model(inputs=input_to_last_3, outputs=output_from_last_3)\n",
    "\n",
    "# Save the new model\n",
    "outputfinal = new_model.predict(output[2])\n",
    "new_model.save('model_last_3_layers.h5')\n",
    "new_model.summary()\n"
   ]
  }
 ],
 "metadata": {
  "kernelspec": {
   "display_name": "Python 3",
   "language": "python",
   "name": "python3"
  },
  "language_info": {
   "codemirror_mode": {
    "name": "ipython",
    "version": 3
   },
   "file_extension": ".py",
   "mimetype": "text/x-python",
   "name": "python",
   "nbconvert_exporter": "python",
   "pygments_lexer": "ipython3",
   "version": "3.10.0"
  },
  "orig_nbformat": 4
 },
 "nbformat": 4,
 "nbformat_minor": 2
}
